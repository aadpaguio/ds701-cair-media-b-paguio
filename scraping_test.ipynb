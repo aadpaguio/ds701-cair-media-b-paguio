{
 "cells": [
  {
   "cell_type": "markdown",
   "id": "6b7dbeaf",
   "metadata": {},
   "source": [
    "## Testing crawl4ai for web-scraping  \n",
    "I'll be using crawl4ai here. It's an intelligent crawler that's highly flexible and easy to use. Performance is pretty good too. We can use more traditional methods like requests/BeautifulSoup/Selenium/Playwright, but I find those methods a bit cumbersome personally (but it's worth testing!!). crawl4ai can also intelligently filter out the relevant content and output markdowns which would save us an extra data cleaning step. You can find the crawl4ai documentation [here](https://docs.crawl4ai.com/)."
   ]
  },
  {
   "cell_type": "code",
   "execution_count": 1,
   "id": "c87f856d",
   "metadata": {},
   "outputs": [],
   "source": [
    "import crawl4ai"
   ]
  },
  {
   "cell_type": "markdown",
   "id": "78b624bc",
   "metadata": {},
   "source": [
    "## Extracting article URLs from the MassLive Archive  \n",
    "I'll be testing out page 1 of the January Archives of the News Section"
   ]
  },
  {
   "cell_type": "code",
   "execution_count": null,
   "id": "b288ea0e",
   "metadata": {},
   "outputs": [
    {
     "data": {
      "text/html": [
       "<pre style=\"white-space:pre;overflow-x:auto;line-height:normal;font-family:Menlo,'DejaVu Sans Mono',consolas,'Courier New',monospace\"><span style=\"color: #008080; text-decoration-color: #008080; font-weight: bold\">[</span><span style=\"color: #008080; text-decoration-color: #008080\">INIT</span><span style=\"color: #008080; text-decoration-color: #008080; font-weight: bold\">]</span><span style=\"color: #008080; text-decoration-color: #008080\">.... → Crawl4AI </span><span style=\"color: #008080; text-decoration-color: #008080; font-weight: bold\">0.7</span><span style=\"color: #008080; text-decoration-color: #008080\">.</span><span style=\"color: #008080; text-decoration-color: #008080; font-weight: bold\">4</span><span style=\"color: #008080; text-decoration-color: #008080\"> </span>\n",
       "</pre>\n"
      ],
      "text/plain": [
       "\u001b[1;36m[\u001b[0m\u001b[36mINIT\u001b[0m\u001b[1;36m]\u001b[0m\u001b[36m...\u001b[0m\u001b[36m. → Crawl4AI \u001b[0m\u001b[1;36m0.7\u001b[0m\u001b[36m.\u001b[0m\u001b[1;36m4\u001b[0m\u001b[36m \u001b[0m\n"
      ]
     },
     "metadata": {},
     "output_type": "display_data"
    },
    {
     "data": {
      "text/html": [
       "<pre style=\"white-space:pre;overflow-x:auto;line-height:normal;font-family:Menlo,'DejaVu Sans Mono',consolas,'Courier New',monospace\"><span style=\"color: #008000; text-decoration-color: #008000; font-weight: bold\">[</span><span style=\"color: #008000; text-decoration-color: #008000\">FETCH</span><span style=\"color: #008000; text-decoration-color: #008000; font-weight: bold\">]</span><span style=\"color: #008000; text-decoration-color: #008000\">... ↓ </span><span style=\"color: #008000; text-decoration-color: #008000; text-decoration: underline\">https://www.masslive.com/archives/news/2025/january/1/</span><span style=\"color: #008000; text-decoration-color: #008000\">                                               |</span>\n",
       "<span style=\"color: #008000; text-decoration-color: #008000\">✓ | ⏱: </span><span style=\"color: #008000; text-decoration-color: #008000; font-weight: bold\">1.</span><span style=\"color: #008000; text-decoration-color: #008000\">33s </span>\n",
       "</pre>\n"
      ],
      "text/plain": [
       "\u001b[1;32m[\u001b[0m\u001b[32mFETCH\u001b[0m\u001b[1;32m]\u001b[0m\u001b[32m...\u001b[0m\u001b[32m ↓ \u001b[0m\u001b[4;32mhttps://www.masslive.com/archives/news/2025/january/1/\u001b[0m\u001b[32m                                               |\u001b[0m\n",
       "\u001b[32m✓\u001b[0m\u001b[32m | ⏱: \u001b[0m\u001b[1;32m1.\u001b[0m\u001b[32m33s \u001b[0m\n"
      ]
     },
     "metadata": {},
     "output_type": "display_data"
    },
    {
     "data": {
      "text/html": [
       "<pre style=\"white-space:pre;overflow-x:auto;line-height:normal;font-family:Menlo,'DejaVu Sans Mono',consolas,'Courier New',monospace\"><span style=\"color: #008000; text-decoration-color: #008000; font-weight: bold\">[</span><span style=\"color: #008000; text-decoration-color: #008000\">SCRAPE</span><span style=\"color: #008000; text-decoration-color: #008000; font-weight: bold\">]</span><span style=\"color: #008000; text-decoration-color: #008000\">.. ◆ </span><span style=\"color: #008000; text-decoration-color: #008000; text-decoration: underline\">https://www.masslive.com/archives/news/2025/january/1/</span><span style=\"color: #008000; text-decoration-color: #008000\">                                               |</span>\n",
       "<span style=\"color: #008000; text-decoration-color: #008000\">✓ | ⏱: </span><span style=\"color: #008000; text-decoration-color: #008000; font-weight: bold\">0.</span><span style=\"color: #008000; text-decoration-color: #008000\">02s </span>\n",
       "</pre>\n"
      ],
      "text/plain": [
       "\u001b[1;32m[\u001b[0m\u001b[32mSCRAPE\u001b[0m\u001b[1;32m]\u001b[0m\u001b[32m.. ◆ \u001b[0m\u001b[4;32mhttps://www.masslive.com/archives/news/2025/january/1/\u001b[0m\u001b[32m                                               |\u001b[0m\n",
       "\u001b[32m✓\u001b[0m\u001b[32m | ⏱: \u001b[0m\u001b[1;32m0.\u001b[0m\u001b[32m02s \u001b[0m\n"
      ]
     },
     "metadata": {},
     "output_type": "display_data"
    },
    {
     "data": {
      "text/html": [
       "<pre style=\"white-space:pre;overflow-x:auto;line-height:normal;font-family:Menlo,'DejaVu Sans Mono',consolas,'Courier New',monospace\"><span style=\"color: #008000; text-decoration-color: #008000; font-weight: bold\">[</span><span style=\"color: #008000; text-decoration-color: #008000\">COMPLETE</span><span style=\"color: #008000; text-decoration-color: #008000; font-weight: bold\">]</span><span style=\"color: #008000; text-decoration-color: #008000\"> ● </span><span style=\"color: #008000; text-decoration-color: #008000; text-decoration: underline\">https://www.masslive.com/archives/news/2025/january/1/</span><span style=\"color: #008000; text-decoration-color: #008000\">                                               |</span>\n",
       "<span style=\"color: #008000; text-decoration-color: #008000\">✓ | ⏱: </span><span style=\"color: #008000; text-decoration-color: #008000; font-weight: bold\">1.</span><span style=\"color: #008000; text-decoration-color: #008000\">36s </span>\n",
       "</pre>\n"
      ],
      "text/plain": [
       "\u001b[1;32m[\u001b[0m\u001b[32mCOMPLETE\u001b[0m\u001b[1;32m]\u001b[0m\u001b[32m ● \u001b[0m\u001b[4;32mhttps://www.masslive.com/archives/news/2025/january/1/\u001b[0m\u001b[32m                                               |\u001b[0m\n",
       "\u001b[32m✓\u001b[0m\u001b[32m | ⏱: \u001b[0m\u001b[1;32m1.\u001b[0m\u001b[32m36s \u001b[0m\n"
      ]
     },
     "metadata": {},
     "output_type": "display_data"
    },
    {
     "name": "stdout",
     "output_type": "stream",
     "text": [
      "Found 100 article URLs:\n",
      "1. https://www.masslive.com/news/2025/01/ibram-x-kendi-leaves-boston-university-for-director-role-at-howard-university.html\n",
      "2. https://www.masslive.com/news/2025/01/boston-registered-sex-offender-grabbed-woman-before-filming-him-da-says.html\n",
      "3. https://www.masslive.com/news/2025/01/body-found-stabbed-in-boston-harbor-in-1991-identified-by-genealogy.html\n",
      "4. https://www.masslive.com/news/2025/01/recall-alert-chocolate-covered-snacks-other-items-may-cause-serious-allergies.html\n",
      "5. https://www.masslive.com/news/2025/01/through-tears-nancy-kerrigan-mourns-skaters-killed-in-dc-crash-not-sure-how-to-process-it.html\n",
      "6. https://www.masslive.com/news/2025/01/video-appears-to-show-moment-american-airlines-flight-collided-with-military-helicopter.html\n",
      "7. https://www.masslive.com/news/2025/01/dc-plane-crash-deadliest-aviation-accident-in-us-in-decades.html\n",
      "8. https://www.masslive.com/news/2025/01/blood-on-his-hands-man-stabbed-after-police-say-he-tried-to-rob-a-woman.html\n",
      "9. https://www.masslive.com/news/2025/01/43-year-old-woman-hospitalized-after-being-shot-in-her-car-in-milton-police-say.html\n",
      "10. https://www.masslive.com/news/2025/01/trump-blames-biden-dei-hiring-in-press-conference-on-deadly-dc-plane-crash.html\n",
      "11. https://www.masslive.com/news/2025/01/social-security-early-cola-predictions-are-in-will-it-help-or-hurt-beneficiaries.html\n",
      "12. https://www.masslive.com/news/2025/01/teen-flown-to-boston-hospital-after-multi-vehicle-crash-on-cape-cod.html\n",
      "13. https://www.masslive.com/news/2025/01/worcester-woman-stabbed-suspected-man-with-a-knife-found-police-say.html\n",
      "14. https://www.masslive.com/news/2025/01/teenagers-among-those-feared-dead-after-american-airlines-plane-crash-in-dc.html\n",
      "15. https://www.masslive.com/news/2025/01/plane-crash-evokes-painful-memories-of-1961-tragedy-for-boston-skating-club.html\n",
      "16. https://www.masslive.com/news/2025/01/6-boston-area-people-killed-in-american-airlines-plane-crash-skating-club-ceo-says.html\n",
      "17. https://www.masslive.com/news/2025/01/northeastern-scrubs-most-dei-language-from-website-after-trump-executive-order.html\n",
      "18. https://www.masslive.com/news/2025/01/boston-logan-warns-of-cancellations-delays-after-plane-crash-in-dc.html\n",
      "19. https://www.masslive.com/news/2025/01/all-passengers-aboard-american-airlines-jet-that-collided-with-helicopter-feared-dead.html\n",
      "20. https://www.masslive.com/news/2025/01/reports-boston-skating-coaches-on-board-downed-american-airlines-flight.html\n",
      "21. https://www.masslive.com/news/2025/01/select-board-discusses-proposed-bylaw-to-establish-regulations-for-public-property.html\n",
      "22. https://www.masslive.com/news/2025/01/a-small-aircraft-is-down-near-washington-dcs-reagan-airport-and-takeoffs-and-landings-are-halted.html\n",
      "23. https://www.masslive.com/news/2025/01/hull-school-employee-suspected-of-inappropriate-relationships-with-students.html\n",
      "24. https://www.masslive.com/news/2025/01/what-are-the-odds-this-asteroid-will-hit-earth-in-2032.html\n",
      "25. https://www.masslive.com/news/2025/01/everett-police-officer-faces-assault-charges-after-police-say-she-beat-her-ex-boyfriend.html\n",
      "26. https://www.masslive.com/news/2025/01/pickup-driver-dies-after-vehicle-hits-tree-in-carver.html\n",
      "27. https://www.masslive.com/news/2025/01/kind-hearted-generous-and-dedicated-sisters-remember-shantel-gillespie.html\n",
      "28. https://www.masslive.com/news/2025/01/pedestrian-at-transfer-station-seriously-hurt-when-hit-by-vehicle-on-cape-cod.html\n",
      "29. https://www.masslive.com/news/2025/01/boston-man-accused-of-killing-mother-of-his-children-arraigned-on-murder-charge.html\n",
      "30. https://www.masslive.com/news/2025/01/quincy-native-long-serving-vietnam-war-pow-to-be-buried-this-week.html\n",
      "31. https://www.masslive.com/news/2025/01/mass-bird-flu-outbreak-threatens-outdoor-cats-officials-say.html\n",
      "32. https://www.masslive.com/news/2025/01/state-officials-bird-flu-widespread-in-mass-but-human-risk-remains-low.html\n",
      "33. https://www.masslive.com/news/2025/01/a-lynn-teen-pushed-her-brother-during-a-fight-then-ice-took-her.html\n",
      "34. https://www.masslive.com/news/2025/01/honda-recalls-about-295k-honda-acura-vehicles-citing-issues-with-fuel-injection-unit.html\n",
      "35. https://www.masslive.com/news/2025/01/big-changes-are-coming-to-amazon-heres-what-shoppers-should-know.html\n",
      "36. https://www.masslive.com/news/2025/01/auburn-high-athletics-director-sent-sexually-explicit-texts-to-teen-court-docs-say.html\n",
      "37. https://www.masslive.com/news/2025/01/nationwide-recall-fda-sets-second-highest-risk-level-for-moisturizer-sold-unintentionally.html\n",
      "38. https://www.masslive.com/news/2025/01/earthquake-rattles-maine-days-after-shaking-felt-in-mass.html\n",
      "39. https://www.masslive.com/news/2025/01/worker-dies-after-house-under-construction-in-weymouth-collapses.html\n",
      "40. https://www.masslive.com/news/2025/01/man-charged-with-killing-shantel-gillespie-mother-of-his-3-children.html\n",
      "41. https://www.masslive.com/news/2025/01/mass-man-told-police-he-wanted-to-kill-trump-cabinet-secretaries-reports-say.html\n",
      "42. https://www.masslive.com/news/2025/01/auburn-high-athletic-director-arrested-after-sending-obscene-videos-to-minor-police-say.html\n",
      "43. https://www.masslive.com/news/2025/01/ex-tufts-doctor-to-go-to-prison-for-attempted-sex-trafficking-of-a-child.html\n",
      "44. https://www.masslive.com/news/2025/01/federal-judge-temporarily-blocks-trump-administration-freeze-on-federal-grants-and-loans.html\n",
      "45. https://www.masslive.com/news/2025/01/brockton-man-indicted-in-connection-with-killing-man-with-a-brick.html\n",
      "46. https://www.masslive.com/news/2025/01/girl-found-at-westborough-hotel-held-against-her-will-police-say.html\n",
      "47. https://www.masslive.com/news/2025/01/brockton-man-facing-accessory-charge-after-easton-girl-shot-in-face.html\n",
      "48. https://www.masslive.com/news/2025/01/five-hospitalized-after-weymouth-home-under-construction-collapses-reports-say.html\n",
      "49. https://www.masslive.com/news/2025/01/1-lane-of-east-boston-highway-reopened-1-day-after-monday-bus-crash.html\n",
      "50. https://www.masslive.com/news/2025/01/a-kohls-store-in-this-mass-town-will-shut-down-by-april-company-says.html\n",
      "51. https://www.masslive.com/news/2025/01/raising-canes-in-allston-reopens-after-mysterious-foul-odor-problem-resolved.html\n",
      "52. https://www.masslive.com/news/2025/01/mass-teen-held-without-bail-after-teenage-girl-shot-in-the-face.html\n",
      "53. https://www.masslive.com/news/2025/01/feds-issue-nationwide-warning-for-chicken-nuggets-containing-bone-fragments-throw-away-asap.html\n",
      "54. https://www.masslive.com/news/2025/01/heres-when-to-spring-ahead-for-daylight-saving-time-2025.html\n",
      "55. https://www.masslive.com/news/2025/01/lynn-man-who-worked-for-usps-pleads-guilty-to-stealing-from-mail.html\n",
      "56. https://www.masslive.com/news/2025/01/boston-mayor-wu-called-to-testify-on-sanctuary-city-status-before-us-house-committee.html\n",
      "57. https://www.masslive.com/news/2025/01/east-boston-highway-to-remain-closed-tuesday-morning-after-bus-crash.html\n",
      "58. https://www.masslive.com/news/2025/01/can-ice-arrest-students-in-school-what-the-law-says-and-how-districts-are-preparing.html\n",
      "59. https://www.masslive.com/news/2025/01/boston-residents-struggling-to-pay-property-taxes-demand-relief.html\n",
      "60. https://www.masslive.com/news/2025/01/tax-season-2025-claiming-a-child-tax-credit-heres-how-long-itll-take-to-get-your-refund.html\n",
      "61. https://www.masslive.com/news/2025/01/51-year-old-man-sentenced-to-15-to-20-years-for-1994-attleboro-rape.html\n",
      "62. https://www.masslive.com/news/2025/01/morning-bus-crash-continues-to-snarl-boston-traffic-around-logan-airport.html\n",
      "63. https://www.masslive.com/news/2025/01/worcester-county-da-awards-paxton-first-responders-for-saving-hurt-hiker.html\n",
      "64. https://www.masslive.com/news/2025/01/irs-is-sending-out-2b-to-taxpayers-by-months-end-whos-getting-money.html\n",
      "65. https://www.masslive.com/news/2025/01/like-a-truck-hit-the-building-we-visited-the-coastal-maine-town-at-earthquake-epicenter.html\n",
      "66. https://www.masslive.com/news/2025/01/will-the-earthquake-have-aftershocks-in-the-northeast-maybe-but-experts-arent-worried.html\n",
      "67. https://www.masslive.com/news/2025/01/is-spain-banning-tourists-not-exactly-heres-what-to-know-before-booking.html\n",
      "68. https://www.masslive.com/news/2025/01/brockton-man-faces-charges-in-connection-with-shooting-16-year-old-girl.html\n",
      "69. https://www.masslive.com/news/2025/01/truck-washing-machine-what-people-are-saying-about-mondays-earthquake.html\n",
      "70. https://www.masslive.com/news/2025/01/watch-video-new-england-earthquake-caught-near-iconic-maine-lighthouse.html\n",
      "71. https://www.masslive.com/news/2025/01/leading-shoe-retailer-to-close-dozens-of-stores-by-years-end-what-to-know.html\n",
      "72. https://www.masslive.com/news/2025/01/this-map-shows-where-mondays-earthquake-started-how-far-it-was-felt-in-the-northeast.html\n",
      "73. https://www.masslive.com/news/2025/01/peabody-man-maine-teen-hurt-after-snowmobiles-drive-off-bridge-in-nh.html\n",
      "74. https://www.masslive.com/news/2025/01/fiery-crash-involving-tractor-trailer-at-i-495-rest-area-led-to-death-monday.html\n",
      "75. https://www.masslive.com/news/2025/01/earthquake-felt-across-massachusetts-monday.html\n",
      "76. https://www.masslive.com/news/2025/01/school-robotics-team-puts-out-fire-that-cancels-mass-school-for-2-days.html\n",
      "77. https://www.masslive.com/news/2025/01/machines-that-make-deadly-pills-to-be-debated-on-beacon-hill-this-year.html\n",
      "78. https://www.masslive.com/news/2025/01/westford-woman-sentenced-for-100-million-home-health-care-fraud-scheme.html\n",
      "79. https://www.masslive.com/news/2025/01/douglas-sex-offender-pleads-guilty-to-having-72-child-sexual-abuse-videos.html\n",
      "80. https://www.masslive.com/news/2025/01/mspca-to-take-in-dogs-from-los-angeles-wildfires-cats-from-louisiana-snow.html\n",
      "81. https://www.masslive.com/news/2025/01/quincy-high-school-cheerleading-coach-accused-of-giving-drugs-to-students.html\n",
      "82. https://www.masslive.com/news/2025/01/its-like-a-bodega-free-grocery-market-model-grows-on-north-shore.html\n",
      "83. https://www.masslive.com/news/2025/01/safety-recall-kias-owners-may-need-to-bring-car-to-dealer-to-inspect-air-bag-wiring.html\n",
      "84. https://www.masslive.com/news/2025/01/taunton-man-convicted-of-raping-co-worker-sentenced-to-state-prison.html\n",
      "85. https://www.masslive.com/news/2025/01/without-divestment-were-umass-amhersts-encampments-successful.html\n",
      "86. https://www.masslive.com/news/2025/01/police-identify-driver-killed-in-wrong-way-crash-in-plymouth.html\n",
      "87. https://www.masslive.com/news/2025/01/rescue-group-needs-help-caring-for-hawk-whose-wings-tail-cut-in-paxton.html\n",
      "88. https://www.masslive.com/news/2025/01/kitten-siblings-who-love-chin-and-cheek-pets-need-forever-home.html\n",
      "89. https://www.masslive.com/news/2025/01/recall-alert-bring-these-ford-broncos-mavericks-to-the-dealer-asap.html\n",
      "90. https://www.masslive.com/news/2025/01/recall-alert-if-you-drive-these-toyota-lexus-vehicles-return-to-dealer-asap.html\n",
      "91. https://www.masslive.com/news/2025/01/driver-killed-in-wrong-way-crash-in-plymouth-state-police-say.html\n",
      "92. https://www.masslive.com/news/2025/01/faculty-reflect-on-umass-amherst-protests-no-confidence-vote.html\n",
      "93. https://www.masslive.com/news/2025/01/umass-amherst-hillel-students-reflect-on-2024-protests-politics-and-faith.html\n",
      "94. https://www.masslive.com/news/2025/01/hegseth-confirmed-as-trumps-defense-secretary-in-tie-breaking-vote-despite-turmoil-over-his-conduct.html\n",
      "95. https://www.masslive.com/news/2025/01/650-acre-park-in-brockton-avon-closed-due-to-avian-flu-concerns.html\n",
      "96. https://www.masslive.com/news/2025/01/haitian-national-with-17-convictions-in-mass-arrested-by-ice-in-boston.html\n",
      "97. https://www.masslive.com/news/2025/01/gofundme-raises-nearly-90k-for-mass-family-of-child-who-drowned-in-icy-pond.html\n",
      "98. https://www.masslive.com/news/2025/01/new-england-patriots-safety-jabrill-peppers-speaks-out-after-acquittal.html\n",
      "99. https://www.masslive.com/news/2025/01/big-lots-selling-closing-all-mass-locations-under-new-ownership.html\n",
      "100. https://www.masslive.com/news/2025/01/harvard-lays-off-slavery-remembrance-program-staff-report-says.html\n",
      "\n",
      "Total URLs collected: 100\n"
     ]
    }
   ],
   "source": [
    "'''\n",
    "Extracting the links to the articles, page 1 of January Articles.\n",
    "'''\n",
    "import asyncio\n",
    "import re\n",
    "from crawl4ai import AsyncWebCrawler, CrawlerRunConfig\n",
    "\n",
    "async def main():\n",
    "    config = CrawlerRunConfig(\n",
    "        css_selector=\"ul.archive a.archive-item__headline-link\"\n",
    "    )\n",
    "    \n",
    "    url = \"https://www.masslive.com/archives/news/2025/january/1/\"  # Replace with actual archive URL\n",
    "    \n",
    "    async with AsyncWebCrawler() as crawler:\n",
    "        result = await crawler.arun(url=url, config=config)\n",
    "        if result.success:\n",
    "            # Extract URLs using regex\n",
    "            url_pattern = r'href=\"([^\"]+)\"'\n",
    "            urls = re.findall(url_pattern, result.cleaned_html)\n",
    "            \n",
    "            # Create a list of URLs\n",
    "            article_urls = []\n",
    "            for url in urls:\n",
    "                article_urls.append(url)\n",
    "            \n",
    "            print(f\"Found {len(article_urls)} article URLs:\")\n",
    "            for i, url in enumerate(article_urls, 1):\n",
    "                print(f\"{i}. {url}\")\n",
    "            \n",
    "            # Return the list for further use\n",
    "            return article_urls\n",
    "        else:\n",
    "            print(f\"Failed to crawl: {result.error_message}\")\n",
    "            return []\n",
    "\n",
    "# Call the function and get the list\n",
    "article_urls = await main()\n",
    "print(f\"\\nTotal URLs collected: {len(article_urls)}\")"
   ]
  },
  {
   "cell_type": "markdown",
   "id": "5decad7b",
   "metadata": {},
   "source": [
    "I verified the last url and it is indeed the last article of the page. We just need to loop through every single page for each month."
   ]
  },
  {
   "cell_type": "markdown",
   "id": "77ecd3ef",
   "metadata": {},
   "source": [
    "## Testing the extraction of the article  \n",
    "I've set the output to markdown to filter out all the unnecessary HTML elements. The css-selector needs to be changed because I think the one I've chosen is specific to this article."
   ]
  },
  {
   "cell_type": "code",
   "execution_count": null,
   "id": "bb4f9e44",
   "metadata": {},
   "outputs": [
    {
     "data": {
      "text/html": [
       "<pre style=\"white-space:pre;overflow-x:auto;line-height:normal;font-family:Menlo,'DejaVu Sans Mono',consolas,'Courier New',monospace\"><span style=\"color: #008080; text-decoration-color: #008080; font-weight: bold\">[</span><span style=\"color: #008080; text-decoration-color: #008080\">INIT</span><span style=\"color: #008080; text-decoration-color: #008080; font-weight: bold\">]</span><span style=\"color: #008080; text-decoration-color: #008080\">.... → Crawl4AI </span><span style=\"color: #008080; text-decoration-color: #008080; font-weight: bold\">0.7</span><span style=\"color: #008080; text-decoration-color: #008080\">.</span><span style=\"color: #008080; text-decoration-color: #008080; font-weight: bold\">4</span><span style=\"color: #008080; text-decoration-color: #008080\"> </span>\n",
       "</pre>\n"
      ],
      "text/plain": [
       "\u001b[1;36m[\u001b[0m\u001b[36mINIT\u001b[0m\u001b[1;36m]\u001b[0m\u001b[36m...\u001b[0m\u001b[36m. → Crawl4AI \u001b[0m\u001b[1;36m0.7\u001b[0m\u001b[36m.\u001b[0m\u001b[1;36m4\u001b[0m\u001b[36m \u001b[0m\n"
      ]
     },
     "metadata": {},
     "output_type": "display_data"
    },
    {
     "data": {
      "text/html": [
       "<pre style=\"white-space:pre;overflow-x:auto;line-height:normal;font-family:Menlo,'DejaVu Sans Mono',consolas,'Courier New',monospace\"><span style=\"color: #008000; text-decoration-color: #008000; font-weight: bold\">[</span><span style=\"color: #008000; text-decoration-color: #008000\">FETCH</span><span style=\"color: #008000; text-decoration-color: #008000; font-weight: bold\">]</span><span style=\"color: #008000; text-decoration-color: #008000\">... ↓ </span><span style=\"color: #008000; text-decoration-color: #008000; text-decoration: underline\">https://www.masslive.com/news/2025/01/ibram-x-ke...sity-for-director-role-at-howard-university.html</span><span style=\"color: #008000; text-decoration-color: #008000\">  |</span>\n",
       "<span style=\"color: #008000; text-decoration-color: #008000\">✓ | ⏱: </span><span style=\"color: #008000; text-decoration-color: #008000; font-weight: bold\">1.</span><span style=\"color: #008000; text-decoration-color: #008000\">33s </span>\n",
       "</pre>\n"
      ],
      "text/plain": [
       "\u001b[1;32m[\u001b[0m\u001b[32mFETCH\u001b[0m\u001b[1;32m]\u001b[0m\u001b[32m...\u001b[0m\u001b[32m ↓ \u001b[0m\u001b[4;32mhttps://www.masslive.com/news/2025/01/ibram-x-ke...sity-for-director-role-at-howard-university.html\u001b[0m\u001b[32m  |\u001b[0m\n",
       "\u001b[32m✓\u001b[0m\u001b[32m | ⏱: \u001b[0m\u001b[1;32m1.\u001b[0m\u001b[32m33s \u001b[0m\n"
      ]
     },
     "metadata": {},
     "output_type": "display_data"
    },
    {
     "data": {
      "text/html": [
       "<pre style=\"white-space:pre;overflow-x:auto;line-height:normal;font-family:Menlo,'DejaVu Sans Mono',consolas,'Courier New',monospace\"><span style=\"color: #008000; text-decoration-color: #008000; font-weight: bold\">[</span><span style=\"color: #008000; text-decoration-color: #008000\">SCRAPE</span><span style=\"color: #008000; text-decoration-color: #008000; font-weight: bold\">]</span><span style=\"color: #008000; text-decoration-color: #008000\">.. ◆ </span><span style=\"color: #008000; text-decoration-color: #008000; text-decoration: underline\">https://www.masslive.com/news/2025/01/ibram-x-ke...sity-for-director-role-at-howard-university.html</span><span style=\"color: #008000; text-decoration-color: #008000\">  |</span>\n",
       "<span style=\"color: #008000; text-decoration-color: #008000\">✓ | ⏱: </span><span style=\"color: #008000; text-decoration-color: #008000; font-weight: bold\">0.</span><span style=\"color: #008000; text-decoration-color: #008000\">00s </span>\n",
       "</pre>\n"
      ],
      "text/plain": [
       "\u001b[1;32m[\u001b[0m\u001b[32mSCRAPE\u001b[0m\u001b[1;32m]\u001b[0m\u001b[32m.. ◆ \u001b[0m\u001b[4;32mhttps://www.masslive.com/news/2025/01/ibram-x-ke...sity-for-director-role-at-howard-university.html\u001b[0m\u001b[32m  |\u001b[0m\n",
       "\u001b[32m✓\u001b[0m\u001b[32m | ⏱: \u001b[0m\u001b[1;32m0.\u001b[0m\u001b[32m00s \u001b[0m\n"
      ]
     },
     "metadata": {},
     "output_type": "display_data"
    },
    {
     "data": {
      "text/html": [
       "<pre style=\"white-space:pre;overflow-x:auto;line-height:normal;font-family:Menlo,'DejaVu Sans Mono',consolas,'Courier New',monospace\"><span style=\"color: #008000; text-decoration-color: #008000; font-weight: bold\">[</span><span style=\"color: #008000; text-decoration-color: #008000\">COMPLETE</span><span style=\"color: #008000; text-decoration-color: #008000; font-weight: bold\">]</span><span style=\"color: #008000; text-decoration-color: #008000\"> ● </span><span style=\"color: #008000; text-decoration-color: #008000; text-decoration: underline\">https://www.masslive.com/news/2025/01/ibram-x-ke...sity-for-director-role-at-howard-university.html</span><span style=\"color: #008000; text-decoration-color: #008000\">  |</span>\n",
       "<span style=\"color: #008000; text-decoration-color: #008000\">✓ | ⏱: </span><span style=\"color: #008000; text-decoration-color: #008000; font-weight: bold\">1.</span><span style=\"color: #008000; text-decoration-color: #008000\">34s </span>\n",
       "</pre>\n"
      ],
      "text/plain": [
       "\u001b[1;32m[\u001b[0m\u001b[32mCOMPLETE\u001b[0m\u001b[1;32m]\u001b[0m\u001b[32m ● \u001b[0m\u001b[4;32mhttps://www.masslive.com/news/2025/01/ibram-x-ke...sity-for-director-role-at-howard-university.html\u001b[0m\u001b[32m  |\u001b[0m\n",
       "\u001b[32m✓\u001b[0m\u001b[32m | ⏱: \u001b[0m\u001b[1;32m1.\u001b[0m\u001b[32m34s \u001b[0m\n"
      ]
     },
     "metadata": {},
     "output_type": "display_data"
    },
    {
     "name": "stdout",
     "output_type": "stream",
     "text": [
      "Success!\n",
      "Filtered markdown length: 5062\n",
      "\n",
      "Extracted markdown content:\n",
      "Ibram X. Kendi, the founding director of the [Boston University Center for Antiracist Research](https://www.bu.edu/antiracism-center/the-center/), is leaving Boston for a new position at [Howard University](https://thedig.howard.edu/all-stories/howard-university-announces-hiring-dr-ibram-x-kendi-director-howard-university-institute-advanced \"https://thedig.howard.edu/all-stories/howard-university-announces-hiring-dr-ibram-x-kendi-director-howard-university-institute-advanced\"). \n",
      "The center will close when its charter with Boston University expires on June 30, [according to Boston University Today](https://www.bu.edu/articles/2025/ibram-x-kendi-departing-boston-university/ \"https://www.bu.edu/articles/2025/ibram-x-kendi-departing-boston-university/\"), the school’s daily website. The remaining staff members will still be employed through June 30. \n",
      "Kendi will serve as the director of the new Howard University Institute for Advanced Study in Washington, D.C., where he will lead efforts to advance “research of importance to the global African Diaspora,” [according to the school](https://www.globenewswire.com/news-release/2025/01/30/3018390/0/en/Howard-University-Announces-the-Hiring-of-Dr-Ibram-X-Kendi-as-Director-of-the-Howard-University-Institute-for-Advanced-Study.html \"https://www.globenewswire.com/news-release/2025/01/30/3018390/0/en/Howard-University-Announces-the-Hiring-of-Dr-Ibram-X-Kendi-as-Director-of-the-Howard-University-Institute-for-Advanced-Study.html\"). \n",
      "“I could not be prouder and more excited to join this illustrious and historic university,” Kendi said in a statement. “I have had my eye on the Mecca my entire career, studying its history and witnessing what [Howard] means to the culture. There are so many faculty on this campus whose work I deeply admire. There are so many talented students on this campus whom I am excited to support. There are so many alumni who walked those grounds and went on to shape the people, cultures, and institutions I love. This is the most fulfilling career choice I have ever made. I can’t wait to get started on our new institute.”\n",
      "The Howard University Institute for Advanced Study will engage thinkers and scholars at the school, across the U.S. and around the world to address deep inequalities in areas including technology, health care and government, the school said. \n",
      "“Dr. Ibram X. Kendi’s exceptional scholarship and unwavering commitment to social justice align perfectly with Howard University’s mission and values as we deepen our scholarship on the African Diaspora,” Dr. Anthony K. Wutoh, Howard University’s provost and chief academic officer, said in a statement. “We are confident that under his leadership, the new institute will become a beacon of excellence and a catalyst for transformative change.”\n",
      "Boston University hired Kendi in 2020 to open the [Center for Antiracist Research](https://www.bu.edu/antiracism-center/ \"https://www.bu.edu/antiracism-center/\"), according to BU Today. His arrival came shortly after the police murder of [George Floyd](https://www.masslive.com/police-fire/2020/05/former-minneapolis-police-officer-derek-\\[%E2%80%A6\\]ith-murder-manslaughter-for-role-in-george-floyds-death.html \"https://www.masslive.com/police-fire/2020/05/former-minneapolis-police-officer-derek-\\[…\\]ith-murder-manslaughter-for-role-in-george-floyds-death.html\").\n",
      "During its initial years, the center was focused on a variety of projects and initiatives including its COVID Racial Data Tracker, making research-based amicus briefs, initiating a Racial Data Lab and building [The Emancipator](https://theemancipator.org/ \"https://theemancipator.org/\"), a digital news outlet focused on racial equality, according to BU Today.\n",
      "In 2023, the center and Kendi were accused of financial mismanagement after 19 people were laid off, [according to the Washington Post](https://www.washingtonpost.com/education/2025/01/30/ibram-kendi-howard-university-bu/?utm_source=alert&utm_medium=email&utm_campaign=wp_news_alert_revere&location=alert \"https://www.washingtonpost.com/education/2025/01/30/ibram-kendi-howard-university-bu/?utm_source=alert&utm_medium=email&utm_campaign=wp_news_alert_revere&location=alert\"). But, the university said an audit of the center found no wrongdoings. \n",
      "“Despite all the headwinds we faced as a new organization founded during the pandemic and the intense backlash over critical race theory, I am very proud of all we envisioned, all we created, all we learned, all we achieved—the community we built, the people we helped and inspired,” Kendi said in a statement. “To all the faculty, staff, administrators, students, supporters, and Boston community members, I feel honored to have been able to do this work with you over the last five years. I am departing for an opportunity I could not pass up, but what connected us at CAR remains, especially during this precarious time. Our commitment to building an equitable and just society.”\n",
      "Kendi is also the author of “How to Be an Antiracist” and winner of the 2021 MacArthur “Genius” grant. \n",
      "\n"
     ]
    }
   ],
   "source": [
    "'''\n",
    "Testing the extraction of an article. Output is markdown.\n",
    "'''\n",
    "import asyncio\n",
    "from crawl4ai import AsyncWebCrawler, CrawlerRunConfig\n",
    "\n",
    "async def main():\n",
    "    config = CrawlerRunConfig(\n",
    "        css_selector=\"#arc-TDWMELVMTBFPTFAQNT5XEX22CI > div:nth-child(3)\",\n",
    "        exclude_external_links=False,\n",
    "    )\n",
    "    \n",
    "    url = \"https://www.masslive.com/news/2025/01/ibram-x-kendi-leaves-boston-university-for-director-role-at-howard-university.html\"\n",
    "    \n",
    "    async with AsyncWebCrawler() as crawler:\n",
    "        result = await crawler.arun(url=url, config=config)\n",
    "        if result.success:\n",
    "            # Filter out content after \"## More News:\" from markdown\n",
    "            markdown_content = result.markdown\n",
    "            if \"## More News\" in markdown_content:\n",
    "                markdown_content = markdown_content.split(\"## More News\")[0]\n",
    "            \n",
    "            print(\"Success!\")\n",
    "            print(\"Filtered markdown length:\", len(markdown_content))\n",
    "            print(\"\\nExtracted markdown content:\")\n",
    "            print(markdown_content)\n",
    "        else:\n",
    "            print(f\"Failed to crawl: {result.error_message}\")\n",
    "\n",
    "await main()"
   ]
  },
  {
   "cell_type": "markdown",
   "id": "6ed42e4c",
   "metadata": {},
   "source": [
    "## Putting it all together\n",
    "\n",
    "I'll try extracting the first 5 articles from the list of urls I created earlier. "
   ]
  },
  {
   "cell_type": "code",
   "execution_count": null,
   "id": "f05b8e66",
   "metadata": {},
   "outputs": [
    {
     "name": "stdout",
     "output_type": "stream",
     "text": [
      "Getting article URLs...\n",
      "Found 100 article URLs\n",
      "Processing first 5 URLs...\n",
      "Processing article 1/5: https://www.masslive.com/news/2025/01/ibram-x-kendi-leaves-boston-university-for-director-role-at-howard-university.html\n"
     ]
    },
    {
     "data": {
      "text/html": [
       "<pre style=\"white-space:pre;overflow-x:auto;line-height:normal;font-family:Menlo,'DejaVu Sans Mono',consolas,'Courier New',monospace\"><span style=\"color: #008080; text-decoration-color: #008080; font-weight: bold\">[</span><span style=\"color: #008080; text-decoration-color: #008080\">INIT</span><span style=\"color: #008080; text-decoration-color: #008080; font-weight: bold\">]</span><span style=\"color: #008080; text-decoration-color: #008080\">.... → Crawl4AI </span><span style=\"color: #008080; text-decoration-color: #008080; font-weight: bold\">0.7</span><span style=\"color: #008080; text-decoration-color: #008080\">.</span><span style=\"color: #008080; text-decoration-color: #008080; font-weight: bold\">4</span><span style=\"color: #008080; text-decoration-color: #008080\"> </span>\n",
       "</pre>\n"
      ],
      "text/plain": [
       "\u001b[1;36m[\u001b[0m\u001b[36mINIT\u001b[0m\u001b[1;36m]\u001b[0m\u001b[36m...\u001b[0m\u001b[36m. → Crawl4AI \u001b[0m\u001b[1;36m0.7\u001b[0m\u001b[36m.\u001b[0m\u001b[1;36m4\u001b[0m\u001b[36m \u001b[0m\n"
      ]
     },
     "metadata": {},
     "output_type": "display_data"
    },
    {
     "data": {
      "text/html": [
       "<pre style=\"white-space:pre;overflow-x:auto;line-height:normal;font-family:Menlo,'DejaVu Sans Mono',consolas,'Courier New',monospace\"><span style=\"color: #008000; text-decoration-color: #008000; font-weight: bold\">[</span><span style=\"color: #008000; text-decoration-color: #008000\">FETCH</span><span style=\"color: #008000; text-decoration-color: #008000; font-weight: bold\">]</span><span style=\"color: #008000; text-decoration-color: #008000\">... ↓ </span><span style=\"color: #008000; text-decoration-color: #008000; text-decoration: underline\">https://www.masslive.com/news/2025/01/ibram-x-ke...sity-for-director-role-at-howard-university.html</span><span style=\"color: #008000; text-decoration-color: #008000\">  |</span>\n",
       "<span style=\"color: #008000; text-decoration-color: #008000\">✓ | ⏱: </span><span style=\"color: #008000; text-decoration-color: #008000; font-weight: bold\">1.</span><span style=\"color: #008000; text-decoration-color: #008000\">46s </span>\n",
       "</pre>\n"
      ],
      "text/plain": [
       "\u001b[1;32m[\u001b[0m\u001b[32mFETCH\u001b[0m\u001b[1;32m]\u001b[0m\u001b[32m...\u001b[0m\u001b[32m ↓ \u001b[0m\u001b[4;32mhttps://www.masslive.com/news/2025/01/ibram-x-ke...sity-for-director-role-at-howard-university.html\u001b[0m\u001b[32m  |\u001b[0m\n",
       "\u001b[32m✓\u001b[0m\u001b[32m | ⏱: \u001b[0m\u001b[1;32m1.\u001b[0m\u001b[32m46s \u001b[0m\n"
      ]
     },
     "metadata": {},
     "output_type": "display_data"
    },
    {
     "data": {
      "text/html": [
       "<pre style=\"white-space:pre;overflow-x:auto;line-height:normal;font-family:Menlo,'DejaVu Sans Mono',consolas,'Courier New',monospace\"><span style=\"color: #008000; text-decoration-color: #008000; font-weight: bold\">[</span><span style=\"color: #008000; text-decoration-color: #008000\">SCRAPE</span><span style=\"color: #008000; text-decoration-color: #008000; font-weight: bold\">]</span><span style=\"color: #008000; text-decoration-color: #008000\">.. ◆ </span><span style=\"color: #008000; text-decoration-color: #008000; text-decoration: underline\">https://www.masslive.com/news/2025/01/ibram-x-ke...sity-for-director-role-at-howard-university.html</span><span style=\"color: #008000; text-decoration-color: #008000\">  |</span>\n",
       "<span style=\"color: #008000; text-decoration-color: #008000\">✓ | ⏱: </span><span style=\"color: #008000; text-decoration-color: #008000; font-weight: bold\">0.</span><span style=\"color: #008000; text-decoration-color: #008000\">00s </span>\n",
       "</pre>\n"
      ],
      "text/plain": [
       "\u001b[1;32m[\u001b[0m\u001b[32mSCRAPE\u001b[0m\u001b[1;32m]\u001b[0m\u001b[32m.. ◆ \u001b[0m\u001b[4;32mhttps://www.masslive.com/news/2025/01/ibram-x-ke...sity-for-director-role-at-howard-university.html\u001b[0m\u001b[32m  |\u001b[0m\n",
       "\u001b[32m✓\u001b[0m\u001b[32m | ⏱: \u001b[0m\u001b[1;32m0.\u001b[0m\u001b[32m00s \u001b[0m\n"
      ]
     },
     "metadata": {},
     "output_type": "display_data"
    },
    {
     "data": {
      "text/html": [
       "<pre style=\"white-space:pre;overflow-x:auto;line-height:normal;font-family:Menlo,'DejaVu Sans Mono',consolas,'Courier New',monospace\"><span style=\"color: #008000; text-decoration-color: #008000; font-weight: bold\">[</span><span style=\"color: #008000; text-decoration-color: #008000\">COMPLETE</span><span style=\"color: #008000; text-decoration-color: #008000; font-weight: bold\">]</span><span style=\"color: #008000; text-decoration-color: #008000\"> ● </span><span style=\"color: #008000; text-decoration-color: #008000; text-decoration: underline\">https://www.masslive.com/news/2025/01/ibram-x-ke...sity-for-director-role-at-howard-university.html</span><span style=\"color: #008000; text-decoration-color: #008000\">  |</span>\n",
       "<span style=\"color: #008000; text-decoration-color: #008000\">✓ | ⏱: </span><span style=\"color: #008000; text-decoration-color: #008000; font-weight: bold\">1.</span><span style=\"color: #008000; text-decoration-color: #008000\">46s </span>\n",
       "</pre>\n"
      ],
      "text/plain": [
       "\u001b[1;32m[\u001b[0m\u001b[32mCOMPLETE\u001b[0m\u001b[1;32m]\u001b[0m\u001b[32m ● \u001b[0m\u001b[4;32mhttps://www.masslive.com/news/2025/01/ibram-x-ke...sity-for-director-role-at-howard-university.html\u001b[0m\u001b[32m  |\u001b[0m\n",
       "\u001b[32m✓\u001b[0m\u001b[32m | ⏱: \u001b[0m\u001b[1;32m1.\u001b[0m\u001b[32m46s \u001b[0m\n"
      ]
     },
     "metadata": {},
     "output_type": "display_data"
    },
    {
     "name": "stdout",
     "output_type": "stream",
     "text": [
      "  ✓ Successfully extracted 5062 characters\n",
      "Processing article 2/5: https://www.masslive.com/news/2025/01/boston-registered-sex-offender-grabbed-woman-before-filming-him-da-says.html\n"
     ]
    },
    {
     "data": {
      "text/html": [
       "<pre style=\"white-space:pre;overflow-x:auto;line-height:normal;font-family:Menlo,'DejaVu Sans Mono',consolas,'Courier New',monospace\"><span style=\"color: #008080; text-decoration-color: #008080; font-weight: bold\">[</span><span style=\"color: #008080; text-decoration-color: #008080\">INIT</span><span style=\"color: #008080; text-decoration-color: #008080; font-weight: bold\">]</span><span style=\"color: #008080; text-decoration-color: #008080\">.... → Crawl4AI </span><span style=\"color: #008080; text-decoration-color: #008080; font-weight: bold\">0.7</span><span style=\"color: #008080; text-decoration-color: #008080\">.</span><span style=\"color: #008080; text-decoration-color: #008080; font-weight: bold\">4</span><span style=\"color: #008080; text-decoration-color: #008080\"> </span>\n",
       "</pre>\n"
      ],
      "text/plain": [
       "\u001b[1;36m[\u001b[0m\u001b[36mINIT\u001b[0m\u001b[1;36m]\u001b[0m\u001b[36m...\u001b[0m\u001b[36m. → Crawl4AI \u001b[0m\u001b[1;36m0.7\u001b[0m\u001b[36m.\u001b[0m\u001b[1;36m4\u001b[0m\u001b[36m \u001b[0m\n"
      ]
     },
     "metadata": {},
     "output_type": "display_data"
    },
    {
     "data": {
      "text/html": [
       "<pre style=\"white-space:pre;overflow-x:auto;line-height:normal;font-family:Menlo,'DejaVu Sans Mono',consolas,'Courier New',monospace\"><span style=\"color: #008000; text-decoration-color: #008000; font-weight: bold\">[</span><span style=\"color: #008000; text-decoration-color: #008000\">FETCH</span><span style=\"color: #008000; text-decoration-color: #008000; font-weight: bold\">]</span><span style=\"color: #008000; text-decoration-color: #008000\">... ↓ </span><span style=\"color: #008000; text-decoration-color: #008000; text-decoration: underline\">https://www.masslive.com/news/2025/01/boston-reg...er-grabbed-woman-before-filming-him-da-says.html</span><span style=\"color: #008000; text-decoration-color: #008000\">  |</span>\n",
       "<span style=\"color: #008000; text-decoration-color: #008000\">✓ | ⏱: </span><span style=\"color: #008000; text-decoration-color: #008000; font-weight: bold\">1.</span><span style=\"color: #008000; text-decoration-color: #008000\">39s </span>\n",
       "</pre>\n"
      ],
      "text/plain": [
       "\u001b[1;32m[\u001b[0m\u001b[32mFETCH\u001b[0m\u001b[1;32m]\u001b[0m\u001b[32m...\u001b[0m\u001b[32m ↓ \u001b[0m\u001b[4;32mhttps://www.masslive.com/news/2025/01/boston-reg...er-grabbed-woman-before-filming-him-da-says.html\u001b[0m\u001b[32m  |\u001b[0m\n",
       "\u001b[32m✓\u001b[0m\u001b[32m | ⏱: \u001b[0m\u001b[1;32m1.\u001b[0m\u001b[32m39s \u001b[0m\n"
      ]
     },
     "metadata": {},
     "output_type": "display_data"
    },
    {
     "data": {
      "text/html": [
       "<pre style=\"white-space:pre;overflow-x:auto;line-height:normal;font-family:Menlo,'DejaVu Sans Mono',consolas,'Courier New',monospace\"><span style=\"color: #008000; text-decoration-color: #008000; font-weight: bold\">[</span><span style=\"color: #008000; text-decoration-color: #008000\">SCRAPE</span><span style=\"color: #008000; text-decoration-color: #008000; font-weight: bold\">]</span><span style=\"color: #008000; text-decoration-color: #008000\">.. ◆ </span><span style=\"color: #008000; text-decoration-color: #008000; text-decoration: underline\">https://www.masslive.com/news/2025/01/boston-reg...er-grabbed-woman-before-filming-him-da-says.html</span><span style=\"color: #008000; text-decoration-color: #008000\">  |</span>\n",
       "<span style=\"color: #008000; text-decoration-color: #008000\">✓ | ⏱: </span><span style=\"color: #008000; text-decoration-color: #008000; font-weight: bold\">0.</span><span style=\"color: #008000; text-decoration-color: #008000\">00s </span>\n",
       "</pre>\n"
      ],
      "text/plain": [
       "\u001b[1;32m[\u001b[0m\u001b[32mSCRAPE\u001b[0m\u001b[1;32m]\u001b[0m\u001b[32m.. ◆ \u001b[0m\u001b[4;32mhttps://www.masslive.com/news/2025/01/boston-reg...er-grabbed-woman-before-filming-him-da-says.html\u001b[0m\u001b[32m  |\u001b[0m\n",
       "\u001b[32m✓\u001b[0m\u001b[32m | ⏱: \u001b[0m\u001b[1;32m0.\u001b[0m\u001b[32m00s \u001b[0m\n"
      ]
     },
     "metadata": {},
     "output_type": "display_data"
    },
    {
     "data": {
      "text/html": [
       "<pre style=\"white-space:pre;overflow-x:auto;line-height:normal;font-family:Menlo,'DejaVu Sans Mono',consolas,'Courier New',monospace\"><span style=\"color: #008000; text-decoration-color: #008000; font-weight: bold\">[</span><span style=\"color: #008000; text-decoration-color: #008000\">COMPLETE</span><span style=\"color: #008000; text-decoration-color: #008000; font-weight: bold\">]</span><span style=\"color: #008000; text-decoration-color: #008000\"> ● </span><span style=\"color: #008000; text-decoration-color: #008000; text-decoration: underline\">https://www.masslive.com/news/2025/01/boston-reg...er-grabbed-woman-before-filming-him-da-says.html</span><span style=\"color: #008000; text-decoration-color: #008000\">  |</span>\n",
       "<span style=\"color: #008000; text-decoration-color: #008000\">✓ | ⏱: </span><span style=\"color: #008000; text-decoration-color: #008000; font-weight: bold\">1.</span><span style=\"color: #008000; text-decoration-color: #008000\">39s </span>\n",
       "</pre>\n"
      ],
      "text/plain": [
       "\u001b[1;32m[\u001b[0m\u001b[32mCOMPLETE\u001b[0m\u001b[1;32m]\u001b[0m\u001b[32m ● \u001b[0m\u001b[4;32mhttps://www.masslive.com/news/2025/01/boston-reg...er-grabbed-woman-before-filming-him-da-says.html\u001b[0m\u001b[32m  |\u001b[0m\n",
       "\u001b[32m✓\u001b[0m\u001b[32m | ⏱: \u001b[0m\u001b[1;32m1.\u001b[0m\u001b[32m39s \u001b[0m\n"
      ]
     },
     "metadata": {},
     "output_type": "display_data"
    },
    {
     "name": "stdout",
     "output_type": "stream",
     "text": [
      "  ✓ Successfully extracted 2585 characters\n",
      "Processing article 3/5: https://www.masslive.com/news/2025/01/body-found-stabbed-in-boston-harbor-in-1991-identified-by-genealogy.html\n"
     ]
    },
    {
     "data": {
      "text/html": [
       "<pre style=\"white-space:pre;overflow-x:auto;line-height:normal;font-family:Menlo,'DejaVu Sans Mono',consolas,'Courier New',monospace\"><span style=\"color: #008080; text-decoration-color: #008080; font-weight: bold\">[</span><span style=\"color: #008080; text-decoration-color: #008080\">INIT</span><span style=\"color: #008080; text-decoration-color: #008080; font-weight: bold\">]</span><span style=\"color: #008080; text-decoration-color: #008080\">.... → Crawl4AI </span><span style=\"color: #008080; text-decoration-color: #008080; font-weight: bold\">0.7</span><span style=\"color: #008080; text-decoration-color: #008080\">.</span><span style=\"color: #008080; text-decoration-color: #008080; font-weight: bold\">4</span><span style=\"color: #008080; text-decoration-color: #008080\"> </span>\n",
       "</pre>\n"
      ],
      "text/plain": [
       "\u001b[1;36m[\u001b[0m\u001b[36mINIT\u001b[0m\u001b[1;36m]\u001b[0m\u001b[36m...\u001b[0m\u001b[36m. → Crawl4AI \u001b[0m\u001b[1;36m0.7\u001b[0m\u001b[36m.\u001b[0m\u001b[1;36m4\u001b[0m\u001b[36m \u001b[0m\n"
      ]
     },
     "metadata": {},
     "output_type": "display_data"
    },
    {
     "data": {
      "text/html": [
       "<pre style=\"white-space:pre;overflow-x:auto;line-height:normal;font-family:Menlo,'DejaVu Sans Mono',consolas,'Courier New',monospace\"><span style=\"color: #008000; text-decoration-color: #008000; font-weight: bold\">[</span><span style=\"color: #008000; text-decoration-color: #008000\">FETCH</span><span style=\"color: #008000; text-decoration-color: #008000; font-weight: bold\">]</span><span style=\"color: #008000; text-decoration-color: #008000\">... ↓ </span><span style=\"color: #008000; text-decoration-color: #008000; text-decoration: underline\">https://www.masslive.com/news/2025/01/body-found...ston-harbor-in-1991-identified-by-genealogy.html</span><span style=\"color: #008000; text-decoration-color: #008000\">  |</span>\n",
       "<span style=\"color: #008000; text-decoration-color: #008000\">✓ | ⏱: </span><span style=\"color: #008000; text-decoration-color: #008000; font-weight: bold\">1.</span><span style=\"color: #008000; text-decoration-color: #008000\">43s </span>\n",
       "</pre>\n"
      ],
      "text/plain": [
       "\u001b[1;32m[\u001b[0m\u001b[32mFETCH\u001b[0m\u001b[1;32m]\u001b[0m\u001b[32m...\u001b[0m\u001b[32m ↓ \u001b[0m\u001b[4;32mhttps://www.masslive.com/news/2025/01/body-found...ston-harbor-in-1991-identified-by-genealogy.html\u001b[0m\u001b[32m  |\u001b[0m\n",
       "\u001b[32m✓\u001b[0m\u001b[32m | ⏱: \u001b[0m\u001b[1;32m1.\u001b[0m\u001b[32m43s \u001b[0m\n"
      ]
     },
     "metadata": {},
     "output_type": "display_data"
    },
    {
     "data": {
      "text/html": [
       "<pre style=\"white-space:pre;overflow-x:auto;line-height:normal;font-family:Menlo,'DejaVu Sans Mono',consolas,'Courier New',monospace\"><span style=\"color: #008000; text-decoration-color: #008000; font-weight: bold\">[</span><span style=\"color: #008000; text-decoration-color: #008000\">SCRAPE</span><span style=\"color: #008000; text-decoration-color: #008000; font-weight: bold\">]</span><span style=\"color: #008000; text-decoration-color: #008000\">.. ◆ </span><span style=\"color: #008000; text-decoration-color: #008000; text-decoration: underline\">https://www.masslive.com/news/2025/01/body-found...ston-harbor-in-1991-identified-by-genealogy.html</span><span style=\"color: #008000; text-decoration-color: #008000\">  |</span>\n",
       "<span style=\"color: #008000; text-decoration-color: #008000\">✓ | ⏱: </span><span style=\"color: #008000; text-decoration-color: #008000; font-weight: bold\">0.</span><span style=\"color: #008000; text-decoration-color: #008000\">01s </span>\n",
       "</pre>\n"
      ],
      "text/plain": [
       "\u001b[1;32m[\u001b[0m\u001b[32mSCRAPE\u001b[0m\u001b[1;32m]\u001b[0m\u001b[32m.. ◆ \u001b[0m\u001b[4;32mhttps://www.masslive.com/news/2025/01/body-found...ston-harbor-in-1991-identified-by-genealogy.html\u001b[0m\u001b[32m  |\u001b[0m\n",
       "\u001b[32m✓\u001b[0m\u001b[32m | ⏱: \u001b[0m\u001b[1;32m0.\u001b[0m\u001b[32m01s \u001b[0m\n"
      ]
     },
     "metadata": {},
     "output_type": "display_data"
    },
    {
     "data": {
      "text/html": [
       "<pre style=\"white-space:pre;overflow-x:auto;line-height:normal;font-family:Menlo,'DejaVu Sans Mono',consolas,'Courier New',monospace\"><span style=\"color: #008000; text-decoration-color: #008000; font-weight: bold\">[</span><span style=\"color: #008000; text-decoration-color: #008000\">COMPLETE</span><span style=\"color: #008000; text-decoration-color: #008000; font-weight: bold\">]</span><span style=\"color: #008000; text-decoration-color: #008000\"> ● </span><span style=\"color: #008000; text-decoration-color: #008000; text-decoration: underline\">https://www.masslive.com/news/2025/01/body-found...ston-harbor-in-1991-identified-by-genealogy.html</span><span style=\"color: #008000; text-decoration-color: #008000\">  |</span>\n",
       "<span style=\"color: #008000; text-decoration-color: #008000\">✓ | ⏱: </span><span style=\"color: #008000; text-decoration-color: #008000; font-weight: bold\">1.</span><span style=\"color: #008000; text-decoration-color: #008000\">44s </span>\n",
       "</pre>\n"
      ],
      "text/plain": [
       "\u001b[1;32m[\u001b[0m\u001b[32mCOMPLETE\u001b[0m\u001b[1;32m]\u001b[0m\u001b[32m ● \u001b[0m\u001b[4;32mhttps://www.masslive.com/news/2025/01/body-found...ston-harbor-in-1991-identified-by-genealogy.html\u001b[0m\u001b[32m  |\u001b[0m\n",
       "\u001b[32m✓\u001b[0m\u001b[32m | ⏱: \u001b[0m\u001b[1;32m1.\u001b[0m\u001b[32m44s \u001b[0m\n"
      ]
     },
     "metadata": {},
     "output_type": "display_data"
    },
    {
     "name": "stdout",
     "output_type": "stream",
     "text": [
      "  ✓ Successfully extracted 1907 characters\n",
      "Processing article 4/5: https://www.masslive.com/news/2025/01/recall-alert-chocolate-covered-snacks-other-items-may-cause-serious-allergies.html\n"
     ]
    },
    {
     "data": {
      "text/html": [
       "<pre style=\"white-space:pre;overflow-x:auto;line-height:normal;font-family:Menlo,'DejaVu Sans Mono',consolas,'Courier New',monospace\"><span style=\"color: #008080; text-decoration-color: #008080; font-weight: bold\">[</span><span style=\"color: #008080; text-decoration-color: #008080\">INIT</span><span style=\"color: #008080; text-decoration-color: #008080; font-weight: bold\">]</span><span style=\"color: #008080; text-decoration-color: #008080\">.... → Crawl4AI </span><span style=\"color: #008080; text-decoration-color: #008080; font-weight: bold\">0.7</span><span style=\"color: #008080; text-decoration-color: #008080\">.</span><span style=\"color: #008080; text-decoration-color: #008080; font-weight: bold\">4</span><span style=\"color: #008080; text-decoration-color: #008080\"> </span>\n",
       "</pre>\n"
      ],
      "text/plain": [
       "\u001b[1;36m[\u001b[0m\u001b[36mINIT\u001b[0m\u001b[1;36m]\u001b[0m\u001b[36m...\u001b[0m\u001b[36m. → Crawl4AI \u001b[0m\u001b[1;36m0.7\u001b[0m\u001b[36m.\u001b[0m\u001b[1;36m4\u001b[0m\u001b[36m \u001b[0m\n"
      ]
     },
     "metadata": {},
     "output_type": "display_data"
    },
    {
     "data": {
      "text/html": [
       "<pre style=\"white-space:pre;overflow-x:auto;line-height:normal;font-family:Menlo,'DejaVu Sans Mono',consolas,'Courier New',monospace\"><span style=\"color: #008000; text-decoration-color: #008000; font-weight: bold\">[</span><span style=\"color: #008000; text-decoration-color: #008000\">FETCH</span><span style=\"color: #008000; text-decoration-color: #008000; font-weight: bold\">]</span><span style=\"color: #008000; text-decoration-color: #008000\">... ↓ </span><span style=\"color: #008000; text-decoration-color: #008000; text-decoration: underline\">https://www.masslive.com/news/2025/01/recall-ale...cks-other-items-may-cause-serious-allergies.html</span><span style=\"color: #008000; text-decoration-color: #008000\">  |</span>\n",
       "<span style=\"color: #008000; text-decoration-color: #008000\">✓ | ⏱: </span><span style=\"color: #008000; text-decoration-color: #008000; font-weight: bold\">1.</span><span style=\"color: #008000; text-decoration-color: #008000\">67s </span>\n",
       "</pre>\n"
      ],
      "text/plain": [
       "\u001b[1;32m[\u001b[0m\u001b[32mFETCH\u001b[0m\u001b[1;32m]\u001b[0m\u001b[32m...\u001b[0m\u001b[32m ↓ \u001b[0m\u001b[4;32mhttps://www.masslive.com/news/2025/01/recall-ale...cks-other-items-may-cause-serious-allergies.html\u001b[0m\u001b[32m  |\u001b[0m\n",
       "\u001b[32m✓\u001b[0m\u001b[32m | ⏱: \u001b[0m\u001b[1;32m1.\u001b[0m\u001b[32m67s \u001b[0m\n"
      ]
     },
     "metadata": {},
     "output_type": "display_data"
    },
    {
     "data": {
      "text/html": [
       "<pre style=\"white-space:pre;overflow-x:auto;line-height:normal;font-family:Menlo,'DejaVu Sans Mono',consolas,'Courier New',monospace\"><span style=\"color: #008000; text-decoration-color: #008000; font-weight: bold\">[</span><span style=\"color: #008000; text-decoration-color: #008000\">SCRAPE</span><span style=\"color: #008000; text-decoration-color: #008000; font-weight: bold\">]</span><span style=\"color: #008000; text-decoration-color: #008000\">.. ◆ </span><span style=\"color: #008000; text-decoration-color: #008000; text-decoration: underline\">https://www.masslive.com/news/2025/01/recall-ale...cks-other-items-may-cause-serious-allergies.html</span><span style=\"color: #008000; text-decoration-color: #008000\">  |</span>\n",
       "<span style=\"color: #008000; text-decoration-color: #008000\">✓ | ⏱: </span><span style=\"color: #008000; text-decoration-color: #008000; font-weight: bold\">0.</span><span style=\"color: #008000; text-decoration-color: #008000\">01s </span>\n",
       "</pre>\n"
      ],
      "text/plain": [
       "\u001b[1;32m[\u001b[0m\u001b[32mSCRAPE\u001b[0m\u001b[1;32m]\u001b[0m\u001b[32m.. ◆ \u001b[0m\u001b[4;32mhttps://www.masslive.com/news/2025/01/recall-ale...cks-other-items-may-cause-serious-allergies.html\u001b[0m\u001b[32m  |\u001b[0m\n",
       "\u001b[32m✓\u001b[0m\u001b[32m | ⏱: \u001b[0m\u001b[1;32m0.\u001b[0m\u001b[32m01s \u001b[0m\n"
      ]
     },
     "metadata": {},
     "output_type": "display_data"
    },
    {
     "data": {
      "text/html": [
       "<pre style=\"white-space:pre;overflow-x:auto;line-height:normal;font-family:Menlo,'DejaVu Sans Mono',consolas,'Courier New',monospace\"><span style=\"color: #008000; text-decoration-color: #008000; font-weight: bold\">[</span><span style=\"color: #008000; text-decoration-color: #008000\">COMPLETE</span><span style=\"color: #008000; text-decoration-color: #008000; font-weight: bold\">]</span><span style=\"color: #008000; text-decoration-color: #008000\"> ● </span><span style=\"color: #008000; text-decoration-color: #008000; text-decoration: underline\">https://www.masslive.com/news/2025/01/recall-ale...cks-other-items-may-cause-serious-allergies.html</span><span style=\"color: #008000; text-decoration-color: #008000\">  |</span>\n",
       "<span style=\"color: #008000; text-decoration-color: #008000\">✓ | ⏱: </span><span style=\"color: #008000; text-decoration-color: #008000; font-weight: bold\">1.</span><span style=\"color: #008000; text-decoration-color: #008000\">68s </span>\n",
       "</pre>\n"
      ],
      "text/plain": [
       "\u001b[1;32m[\u001b[0m\u001b[32mCOMPLETE\u001b[0m\u001b[1;32m]\u001b[0m\u001b[32m ● \u001b[0m\u001b[4;32mhttps://www.masslive.com/news/2025/01/recall-ale...cks-other-items-may-cause-serious-allergies.html\u001b[0m\u001b[32m  |\u001b[0m\n",
       "\u001b[32m✓\u001b[0m\u001b[32m | ⏱: \u001b[0m\u001b[1;32m1.\u001b[0m\u001b[32m68s \u001b[0m\n"
      ]
     },
     "metadata": {},
     "output_type": "display_data"
    },
    {
     "name": "stdout",
     "output_type": "stream",
     "text": [
      "  ✓ Successfully extracted 5031 characters\n",
      "Processing article 5/5: https://www.masslive.com/news/2025/01/through-tears-nancy-kerrigan-mourns-skaters-killed-in-dc-crash-not-sure-how-to-process-it.html\n"
     ]
    },
    {
     "data": {
      "text/html": [
       "<pre style=\"white-space:pre;overflow-x:auto;line-height:normal;font-family:Menlo,'DejaVu Sans Mono',consolas,'Courier New',monospace\"><span style=\"color: #008080; text-decoration-color: #008080; font-weight: bold\">[</span><span style=\"color: #008080; text-decoration-color: #008080\">INIT</span><span style=\"color: #008080; text-decoration-color: #008080; font-weight: bold\">]</span><span style=\"color: #008080; text-decoration-color: #008080\">.... → Crawl4AI </span><span style=\"color: #008080; text-decoration-color: #008080; font-weight: bold\">0.7</span><span style=\"color: #008080; text-decoration-color: #008080\">.</span><span style=\"color: #008080; text-decoration-color: #008080; font-weight: bold\">4</span><span style=\"color: #008080; text-decoration-color: #008080\"> </span>\n",
       "</pre>\n"
      ],
      "text/plain": [
       "\u001b[1;36m[\u001b[0m\u001b[36mINIT\u001b[0m\u001b[1;36m]\u001b[0m\u001b[36m...\u001b[0m\u001b[36m. → Crawl4AI \u001b[0m\u001b[1;36m0.7\u001b[0m\u001b[36m.\u001b[0m\u001b[1;36m4\u001b[0m\u001b[36m \u001b[0m\n"
      ]
     },
     "metadata": {},
     "output_type": "display_data"
    },
    {
     "data": {
      "text/html": [
       "<pre style=\"white-space:pre;overflow-x:auto;line-height:normal;font-family:Menlo,'DejaVu Sans Mono',consolas,'Courier New',monospace\"><span style=\"color: #008000; text-decoration-color: #008000; font-weight: bold\">[</span><span style=\"color: #008000; text-decoration-color: #008000\">FETCH</span><span style=\"color: #008000; text-decoration-color: #008000; font-weight: bold\">]</span><span style=\"color: #008000; text-decoration-color: #008000\">... ↓ </span><span style=\"color: #008000; text-decoration-color: #008000; text-decoration: underline\">https://www.masslive.com/news/2025/01/through-te...lled-in-dc-crash-not-sure-how-to-process-it.html</span><span style=\"color: #008000; text-decoration-color: #008000\">  |</span>\n",
       "<span style=\"color: #008000; text-decoration-color: #008000\">✓ | ⏱: </span><span style=\"color: #008000; text-decoration-color: #008000; font-weight: bold\">1.</span><span style=\"color: #008000; text-decoration-color: #008000\">13s </span>\n",
       "</pre>\n"
      ],
      "text/plain": [
       "\u001b[1;32m[\u001b[0m\u001b[32mFETCH\u001b[0m\u001b[1;32m]\u001b[0m\u001b[32m...\u001b[0m\u001b[32m ↓ \u001b[0m\u001b[4;32mhttps://www.masslive.com/news/2025/01/through-te...lled-in-dc-crash-not-sure-how-to-process-it.html\u001b[0m\u001b[32m  |\u001b[0m\n",
       "\u001b[32m✓\u001b[0m\u001b[32m | ⏱: \u001b[0m\u001b[1;32m1.\u001b[0m\u001b[32m13s \u001b[0m\n"
      ]
     },
     "metadata": {},
     "output_type": "display_data"
    },
    {
     "data": {
      "text/html": [
       "<pre style=\"white-space:pre;overflow-x:auto;line-height:normal;font-family:Menlo,'DejaVu Sans Mono',consolas,'Courier New',monospace\"><span style=\"color: #008000; text-decoration-color: #008000; font-weight: bold\">[</span><span style=\"color: #008000; text-decoration-color: #008000\">SCRAPE</span><span style=\"color: #008000; text-decoration-color: #008000; font-weight: bold\">]</span><span style=\"color: #008000; text-decoration-color: #008000\">.. ◆ </span><span style=\"color: #008000; text-decoration-color: #008000; text-decoration: underline\">https://www.masslive.com/news/2025/01/through-te...lled-in-dc-crash-not-sure-how-to-process-it.html</span><span style=\"color: #008000; text-decoration-color: #008000\">  |</span>\n",
       "<span style=\"color: #008000; text-decoration-color: #008000\">✓ | ⏱: </span><span style=\"color: #008000; text-decoration-color: #008000; font-weight: bold\">0.</span><span style=\"color: #008000; text-decoration-color: #008000\">01s </span>\n",
       "</pre>\n"
      ],
      "text/plain": [
       "\u001b[1;32m[\u001b[0m\u001b[32mSCRAPE\u001b[0m\u001b[1;32m]\u001b[0m\u001b[32m.. ◆ \u001b[0m\u001b[4;32mhttps://www.masslive.com/news/2025/01/through-te...lled-in-dc-crash-not-sure-how-to-process-it.html\u001b[0m\u001b[32m  |\u001b[0m\n",
       "\u001b[32m✓\u001b[0m\u001b[32m | ⏱: \u001b[0m\u001b[1;32m0.\u001b[0m\u001b[32m01s \u001b[0m\n"
      ]
     },
     "metadata": {},
     "output_type": "display_data"
    },
    {
     "data": {
      "text/html": [
       "<pre style=\"white-space:pre;overflow-x:auto;line-height:normal;font-family:Menlo,'DejaVu Sans Mono',consolas,'Courier New',monospace\"><span style=\"color: #008000; text-decoration-color: #008000; font-weight: bold\">[</span><span style=\"color: #008000; text-decoration-color: #008000\">COMPLETE</span><span style=\"color: #008000; text-decoration-color: #008000; font-weight: bold\">]</span><span style=\"color: #008000; text-decoration-color: #008000\"> ● </span><span style=\"color: #008000; text-decoration-color: #008000; text-decoration: underline\">https://www.masslive.com/news/2025/01/through-te...lled-in-dc-crash-not-sure-how-to-process-it.html</span><span style=\"color: #008000; text-decoration-color: #008000\">  |</span>\n",
       "<span style=\"color: #008000; text-decoration-color: #008000\">✓ | ⏱: </span><span style=\"color: #008000; text-decoration-color: #008000; font-weight: bold\">1.</span><span style=\"color: #008000; text-decoration-color: #008000\">14s </span>\n",
       "</pre>\n"
      ],
      "text/plain": [
       "\u001b[1;32m[\u001b[0m\u001b[32mCOMPLETE\u001b[0m\u001b[1;32m]\u001b[0m\u001b[32m ● \u001b[0m\u001b[4;32mhttps://www.masslive.com/news/2025/01/through-te...lled-in-dc-crash-not-sure-how-to-process-it.html\u001b[0m\u001b[32m  |\u001b[0m\n",
       "\u001b[32m✓\u001b[0m\u001b[32m | ⏱: \u001b[0m\u001b[1;32m1.\u001b[0m\u001b[32m14s \u001b[0m\n"
      ]
     },
     "metadata": {},
     "output_type": "display_data"
    },
    {
     "name": "stdout",
     "output_type": "stream",
     "text": [
      "  ✓ Successfully extracted 7632 characters\n",
      "\n",
      "Successfully extracted 5 articles\n",
      "\n",
      "--- Article 1 ---\n",
      "URL: https://www.masslive.com/news/2025/01/ibram-x-kendi-leaves-boston-university-for-director-role-at-howard-university.html\n",
      "Length: 5062 characters\n",
      "Preview: Ibram X. Kendi, the founding director of the [Boston University Center for Antiracist Research](https://www.bu.edu/antiracism-center/the-center/), is leaving Boston for a new position at [Howard Unive...\n",
      "\n",
      "--- Article 2 ---\n",
      "URL: https://www.masslive.com/news/2025/01/boston-registered-sex-offender-grabbed-woman-before-filming-him-da-says.html\n",
      "Length: 2585 characters\n",
      "Preview: A woman on Boston’s Tremont Street followed and filmed a man – a registered sex offender – after he grabbed her buttocks, Suffolk County District Attorney Kevin Hayden’s office said Thursday. \n",
      "Kenneth...\n",
      "\n",
      "--- Article 3 ---\n",
      "URL: https://www.masslive.com/news/2025/01/body-found-stabbed-in-boston-harbor-in-1991-identified-by-genealogy.html\n",
      "Length: 1907 characters\n",
      "Preview: For 33 years nobody knew the name of the man whose body was found with a stab wound in the Boston Harbor, near Thompson Island, on Dec. 4, 1991. \n",
      "The Office of the Chief Medical Examiner at the time r...\n",
      "\n",
      "--- Article 4 ---\n",
      "URL: https://www.masslive.com/news/2025/01/recall-alert-chocolate-covered-snacks-other-items-may-cause-serious-allergies.html\n",
      "Length: 5031 characters\n",
      "Preview: Dozens of chocolate- and yogurt-covered products are being [recalled](https://www.masslive.com/topic/recall/ \"https://www.masslive.com/topic/recall/\") because they might containing several undeclared ...\n",
      "\n",
      "--- Article 5 ---\n",
      "URL: https://www.masslive.com/news/2025/01/through-tears-nancy-kerrigan-mourns-skaters-killed-in-dc-crash-not-sure-how-to-process-it.html\n",
      "Length: 7632 characters\n",
      "Preview: Standing before a Greater Boston ice rink where some victims of Wednesday’s plane crash in Washington, D.C., trained as figure skaters, a visibly emotional Nancy Kerrigan said she felt pulled to the f...\n"
     ]
    }
   ],
   "source": [
    "import asyncio\n",
    "import re\n",
    "from crawl4ai import AsyncWebCrawler, CrawlerRunConfig\n",
    "\n",
    "async def extract_article_markdown(url):\n",
    "    \"\"\"Extract markdown content from a single article URL\"\"\"\n",
    "    config = CrawlerRunConfig(\n",
    "        css_selector=\".main.article__story .entry-content\", #Using a more general xpath\n",
    "        exclude_external_links=False,\n",
    "    )\n",
    "    \n",
    "    async with AsyncWebCrawler() as crawler:\n",
    "        result = await crawler.arun(url=url, config=config)\n",
    "        if result.success:\n",
    "            # Filter out content after \"## More News:\" from markdown\n",
    "            markdown_content = result.markdown\n",
    "            if \"## More News\" in markdown_content:\n",
    "                markdown_content = markdown_content.split(\"## More News\")[0]\n",
    "            return markdown_content\n",
    "        else:\n",
    "            print(f\"Failed to crawl {url}: {result.error_message}\")\n",
    "            return None\n",
    "\n",
    "\n",
    "async def main():\n",
    "    # First, get the list of article URLs\n",
    "    print(\"Getting article URLs...\")\n",
    "    \n",
    "    if not article_urls:\n",
    "        print(\"No URLs found!\")\n",
    "        return\n",
    "    \n",
    "    print(f\"Found {len(article_urls)} article URLs\")\n",
    "    \n",
    "    # Take only the first 5 URLs\n",
    "    first_5_urls = article_urls[:5]\n",
    "    print(f\"Processing first 5 URLs...\")\n",
    "    \n",
    "    # Extract markdown content for each URL\n",
    "    markdown_contents = []\n",
    "    \n",
    "    for i, url in enumerate(first_5_urls, 1):\n",
    "        print(f\"Processing article {i}/5: {url}\")\n",
    "        markdown_content = await extract_article_markdown(url)\n",
    "        \n",
    "        if markdown_content:\n",
    "            markdown_contents.append({\n",
    "                'url': url,\n",
    "                'markdown': markdown_content,\n",
    "                'length': len(markdown_content)\n",
    "            })\n",
    "            print(f\"  ✓ Successfully extracted {len(markdown_content)} characters\")\n",
    "        else:\n",
    "            print(f\"  ✗ Failed to extract content\")\n",
    "    \n",
    "    print(f\"\\nSuccessfully extracted {len(markdown_contents)} articles\")\n",
    "    \n",
    "    # Display results\n",
    "    for i, article in enumerate(markdown_contents, 1):\n",
    "        print(f\"\\n--- Article {i} ---\")\n",
    "        print(f\"URL: {article['url']}\")\n",
    "        print(f\"Length: {article['length']} characters\")\n",
    "        print(f\"Preview: {article['markdown'][:200]}...\")\n",
    "    \n",
    "    return markdown_contents\n",
    "\n",
    "# Run the main function\n",
    "articles_data = await main()"
   ]
  },
  {
   "cell_type": "markdown",
   "id": "4455dbe3",
   "metadata": {},
   "source": [
    "**Some notes**:  \n",
    "1. This should work, you just need to extract the all the URLs from each month. We can split the load with the other team, it will be faster if all of us assigned months to each person.\n",
    "2. The content of the extraction needs to be cleaned. We need to remove the ## More News section and any external links. This can be done in the actual preprocessing phase, but it would make sense to do some cleaning in the scraping phase. \n",
    "3. crawl4ai should intelligently handle request-limits, but I haven't stress-tested the package. The final production pipeline should be able to handle disruptions so that when running the loop again, it starts where it left off. "
   ]
  },
  {
   "cell_type": "markdown",
   "id": "2d4f7e92",
   "metadata": {},
   "source": []
  }
 ],
 "metadata": {
  "kernelspec": {
   "display_name": ".venv",
   "language": "python",
   "name": "python3"
  },
  "language_info": {
   "codemirror_mode": {
    "name": "ipython",
    "version": 3
   },
   "file_extension": ".py",
   "mimetype": "text/x-python",
   "name": "python",
   "nbconvert_exporter": "python",
   "pygments_lexer": "ipython3",
   "version": "3.12.10"
  }
 },
 "nbformat": 4,
 "nbformat_minor": 5
}
